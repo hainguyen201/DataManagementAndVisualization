{
 "cells": [
  {
   "cell_type": "code",
   "execution_count": 1,
   "metadata": {},
   "outputs": [],
   "source": [
    "import os \n",
    "packages = \"org.apache.spark:spark-sql-kafka-0-10_2.12:3.0.1\"\n",
    "\n",
    "os.environ[\"PYSPARK_SUBMIT_ARGS\"] = (\n",
    "    \"--packages {0} pyspark-shell\".format(packages)\n",
    ")\n",
    "os.environ[\"PYSPARK_PYTHON\"] = '/usr/bin/python3'\n",
    "\n",
    "\n",
    "\n",
    "from pyspark.sql import SparkSession\n",
    "spark = SparkSession.builder.appName(\"example-pyspark-read-and-write\").master(\"spark://spark-master:7077\").config('spark.cores.max','2').config(\"spark.executor.memory\", \"512m\").getOrCreate()"
   ]
  },
  {
   "cell_type": "code",
   "execution_count": 2,
   "metadata": {},
   "outputs": [],
   "source": [
    "# HDFS_HOST=\"hdfs://namenode:9000/\"\n",
    "# # Create data\n",
    "# data = [('First', 1), ('Second', 2), ('Third', 3), ('Fourth', 4), ('Fifth', 5)]\n",
    "# df = sparkSession.createDataFrame(data)\n",
    "\n",
    "# # Write into HDFS\n",
    "# df.write.csv(HDFS_HOST+\"test/example.csv\")\n",
    "# # để kiểm tra vào shell của name node \n",
    "# # dùng lệnh hdfs dfs -ls /\n",
    "# # sẽ hiển thị thông tin file vừa ghi"
   ]
  },
  {
   "cell_type": "code",
   "execution_count": 3,
   "metadata": {},
   "outputs": [],
   "source": [
    "from pyspark.sql.types import *\n",
    "from pyspark.sql.functions import *\n",
    "\n",
    "schema = StructType([   \n",
    "        StructField(\"time\", StringType(), True),\n",
    "        StructField(\"text\", StringType(), True),\n",
    "        StructField(\"retweet_count\", DoubleType(), True),\n",
    "        StructField(\"location\", StringType(), True),\n",
    "        StructField(\"favorite_count\", DoubleType(), True),\n",
    "        StructField(\"user_id\", StringType(), True),\n",
    "        StructField(\"place\", StringType(), True),\n",
    "        StructField(\"user_followers_count\", StringType(), True),\n",
    "        StructField(\"sentiment\", StringType(), True)\n",
    "    \n",
    "])"
   ]
  },
  {
   "cell_type": "code",
   "execution_count": 4,
   "metadata": {
    "scrolled": true
   },
   "outputs": [],
   "source": [
    "bidenDF = spark \\\n",
    "    .readStream \\\n",
    "    .schema(schema) \\\n",
    "    .csv(\"hdfs://namenode:9000/data/biden.csv/\")\n",
    "\n",
    "trumpDF = spark \\\n",
    "    .readStream \\\n",
    "    .schema(schema) \\\n",
    "    .csv(\"hdfs://namenode:9000/data/trump.csv/\")\n",
    "\n",
    "bidenDF = bidenDF.withColumn(\"value\", to_json(struct([bidenDF[x] for x in bidenDF.columns])))\n",
    "trumpDF = trumpDF.withColumn(\"value\", to_json(struct([trumpDF[x] for x in trumpDF.columns])))\n"
   ]
  },
  {
   "cell_type": "code",
   "execution_count": 5,
   "metadata": {},
   "outputs": [
    {
     "data": {
      "text/plain": [
       "<pyspark.sql.streaming.StreamingQuery at 0x7f415d34f5d0>"
      ]
     },
     "execution_count": 5,
     "metadata": {},
     "output_type": "execute_result"
    }
   ],
   "source": [
    "bidenDF \\\n",
    "  .selectExpr(\"CAST(value AS STRING)\") \\\n",
    "  .writeStream \\\n",
    "  .format(\"kafka\") \\\n",
    "  .option(\"kafka.bootstrap.servers\", \"kafka:9092\")\\\n",
    "  .option(\"checkpointLocation\", \"/tmp/biden-visualize/checkpoint\")\\\n",
    "  .option(\"topic\", \"biden_visualize\") \\\n",
    "  .start()\n",
    "\n",
    "\n",
    "trumpDF \\\n",
    "  .selectExpr(\"CAST(value AS STRING)\") \\\n",
    "  .writeStream \\\n",
    "  .format(\"kafka\") \\\n",
    "  .option(\"kafka.bootstrap.servers\", \"kafka:9092\")\\\n",
    "  .option(\"checkpointLocation\", \"/tmp/trump-visualize/checkpoint\")\\\n",
    "  .option(\"topic\", \"trump_visualize\") \\\n",
    "  .start()"
   ]
  },
  {
   "cell_type": "code",
   "execution_count": null,
   "metadata": {},
   "outputs": [],
   "source": []
  },
  {
   "cell_type": "code",
   "execution_count": null,
   "metadata": {},
   "outputs": [],
   "source": []
  }
 ],
 "metadata": {
  "kernelspec": {
   "display_name": "Python 3 (ipykernel)",
   "language": "python",
   "name": "python3"
  },
  "language_info": {
   "codemirror_mode": {
    "name": "ipython",
    "version": 3
   },
   "file_extension": ".py",
   "mimetype": "text/x-python",
   "name": "python",
   "nbconvert_exporter": "python",
   "pygments_lexer": "ipython3",
   "version": "3.9.7"
  }
 },
 "nbformat": 4,
 "nbformat_minor": 4
}
