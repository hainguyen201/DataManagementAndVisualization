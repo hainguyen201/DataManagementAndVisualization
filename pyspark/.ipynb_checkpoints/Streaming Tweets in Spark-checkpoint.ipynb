{
 "cells": [
  {
   "cell_type": "markdown",
   "metadata": {},
   "source": [
    "# Spark Streaming"
   ]
  },
  {
   "cell_type": "markdown",
   "metadata": {},
   "source": [
    "## Import thư viện và packages cho Spark\n",
    "\n",
    "---\n"
   ]
  },
  {
   "cell_type": "code",
   "execution_count": 1,
   "metadata": {},
   "outputs": [],
   "source": [
    "import os \n",
    "packages = \"org.apache.spark:spark-sql-kafka-0-10_2.12:3.0.1\"\n",
    "\n",
    "os.environ[\"PYSPARK_PYTHON\"] = '/usr/bin/python3'\n",
    "os.environ[\"PYSPARK_SUBMIT_ARGS\"] = (\n",
    "    \"--packages {0} pyspark-shell\".format(packages)\n",
    ")\n",
    "from pyspark.sql.functions import *\n",
    "import json\n",
    "import sys\n",
    "import re\n",
    "\n",
    "from pyspark.sql.types import *\n",
    "from pyspark.context import SparkContext\n",
    "from pyspark.sql.session import SparkSession\n",
    "\n",
    "\n",
    "from textblob import TextBlob\n",
    "\n",
    "\n",
    "spark = SparkSession.builder.master('spark://spark-master:7077').config('spark.cores.max','1').config(\"spark.executor.memory\", \"1g\").getOrCreate()"
   ]
  },
  {
   "cell_type": "markdown",
   "metadata": {},
   "source": [
    "## Structured Streaming từ Kafka\n",
    "\n",
    "---"
   ]
  },
  {
   "cell_type": "markdown",
   "metadata": {},
   "source": [
    "Xây dựng 2 streaming DataFrame từ Kafka source tương ứng với 2 topic được subscribe là **Trump** và **Biden**.\n",
    "\n"
   ]
  },
  {
   "cell_type": "code",
   "execution_count": 2,
   "metadata": {},
   "outputs": [],
   "source": [
    "trumpDF = spark.readStream.format(\"kafka\")\\\n",
    ".option(\"kafka.bootstrap.servers\", \"kafka:9092\")\\\n",
    ".option(\"subscribe\", \"Trump\")\\\n",
    ".option('failOnDataLoss', 'false') \\\n",
    ".load()\n",
    "\n",
    "\n",
    "bidenDF = spark.readStream.format(\"kafka\")\\\n",
    ".option(\"kafka.bootstrap.servers\", \"kafka:9092\")\\\n",
    ".option(\"subscribe\", \"Biden\")\\\n",
    ".option('failOnDataLoss', 'false') \\\n",
    ".load()"
   ]
  },
  {
   "cell_type": "markdown",
   "metadata": {},
   "source": [
    "Clean dữ liệu với thư viện [tweet-preprocessor](https://github.com/s/preprocessor)\n",
    "- Thay thế các kí tự HTML Entities (nếu có) bằng các kí tự thông thường\n",
    "- Chuyển hashtag thành 1 từ trong tweet\n",
    "- Loại bỏ emoji, URL và user tag có trong tweet"
   ]
  },
  {
   "cell_type": "code",
   "execution_count": 3,
   "metadata": {},
   "outputs": [],
   "source": [
    "import preprocessor as p\n",
    "p.set_options(p.OPT.URL, p.OPT.EMOJI)\n",
    "\n",
    "def preprocess(text):\n",
    "    tweet_text = re.sub('@[\\w]+','',text)\n",
    "    tweet_text = (tweet_text.replace('&amp;', '&').replace('&lt;', '<')\\\n",
    "                  .replace('&gt;', '>').replace('&quot;', '\"')\\\n",
    "                  .replace('&#39;', \"'\").replace(';', \" \")\\\n",
    "                  .replace(r'\\u', \" \"))\n",
    "    tweet_text = tweet_text.replace(\"#\", \"\").replace(\"_\", \" \")\n",
    "    tweet_text = p.clean(tweet_text)\n",
    "    \n",
    "    return tweet_text\n"
   ]
  },
  {
   "cell_type": "code",
   "execution_count": 4,
   "metadata": {},
   "outputs": [
    {
     "name": "stdout",
     "output_type": "stream",
     "text": [
      "Preprocessor is awesome\n"
     ]
    }
   ],
   "source": [
    "print(preprocess('Preprocessor is #awesome 👍 https://github.com/s/preprocessor @username @hello'))"
   ]
  },
  {
   "cell_type": "markdown",
   "metadata": {},
   "source": [
    "---\n",
    "Tiếp theo, sử dụng thư viện **TextBlob** để phục vụ cho việc phân loại tweet về Negative, Neutral và Positive.\n",
    "\n",
    "TextBlob là một thư viện về NLP với nhiều chức năng như: part-of-speech tagging, noun phrase extraction, sentiment analysis, classification, translation,.... Ở trong bài toán này, chúng ta sẽ tập trung sử dụng chức năng sentiment analysis của TextBlob.\n",
    "\n",
    "Phương thức **sentiment** trong **TextBlob** trả về  1 namedtuple có dạng `Sentiment(polarity, subjectivity)`. Polarity có khoảng giá trị từ [-1.0, 1.0], còn subjectivity nằm trong khoảng [0.0, 1.0] với 1.0 là rất chủ quan còn 0.0 là rất khách quan.\n",
    "\n",
    "Để thực hiện phân loại tweet, ta chia polarity làm 3 khoảng:\n",
    "- [-1.0, -0.1] là **Negative**\n",
    "- [-0.1, 0.1] là **Neutral**\n",
    "- [0.1, 1.0] là **Positive**"
   ]
  },
  {
   "cell_type": "code",
   "execution_count": 5,
   "metadata": {},
   "outputs": [],
   "source": [
    "def predict_sentiment(tweet_text):\n",
    "    tweet = TextBlob(tweet_text)\n",
    "    if tweet.sentiment.polarity > 0.1:\n",
    "        return \"Positive\"\n",
    "    elif tweet.sentiment.polarity < -0.1:\n",
    "        return \"Negative\"\n",
    "    else:\n",
    "        return \"Neutral\""
   ]
  },
  {
   "cell_type": "code",
   "execution_count": 6,
   "metadata": {},
   "outputs": [
    {
     "data": {
      "text/plain": [
       "'Positive'"
      ]
     },
     "execution_count": 6,
     "metadata": {},
     "output_type": "execute_result"
    }
   ],
   "source": [
    "predict_sentiment(\"Trump is a good president\")"
   ]
  },
  {
   "cell_type": "markdown",
   "metadata": {},
   "source": [
    "---\n",
    "Định nghĩa schema cho dữ liệu được stream từ Kafka:\n",
    "- **time**: Thời gian tạo tweet\n",
    "- **text**: Nội dung tweet\n",
    "- **retweet_count**: Số lần tweet được retweet\n",
    "- **favorite_count**: Số lượt like của tweet\n",
    "- **user_id**: ID của người tạo tweet\n",
    "- **location**: Vị trí địa lí của người tạo tweet\n",
    "- **place**: Vị trí địa lí khi tweet được tạo (nếu người dùng bật định vị)\n",
    "- **user_followers_count**: Số lượng follower của người tạo tweet"
   ]
  },
  {
   "cell_type": "code",
   "execution_count": 7,
   "metadata": {},
   "outputs": [],
   "source": [
    "schema = StructType([   \n",
    "        StructField(\"time\", StringType(), True),\n",
    "        StructField(\"text\", StringType(), True),\n",
    "        StructField(\"retweet_count\", DoubleType(), True),\n",
    "        StructField(\"location\", StringType(), True),\n",
    "        StructField(\"favorite_count\", DoubleType(), True),\n",
    "        StructField(\"user_id\", StringType(), True),\n",
    "        StructField(\"place\", StringType(), True),\n",
    "        StructField(\"user_followers_count\", StringType(), True),\n",
    "    \n",
    "])"
   ]
  },
  {
   "cell_type": "markdown",
   "metadata": {},
   "source": [
    "---\n",
    "Xây dựng pipeline xử lí dữ liệu\n",
    "\n",
    "Đưa dữ liệu về schema đã được định nghĩa => Clean dữ liệu text => Phân loại text"
   ]
  },
  {
   "cell_type": "code",
   "execution_count": 8,
   "metadata": {},
   "outputs": [],
   "source": [
    "def castData(schema, df):\n",
    "    df = df.selectExpr(\"CAST(value AS STRING)\")\n",
    "    df = df.select(from_json(col(\"value\"), schema).alias(\"data\")).select(\"data.*\")\n",
    "    pre_udf = udf(preprocess, StringType())\n",
    "    df = df.withColumn('text', pre_udf(col('text')))\n",
    "    one_row_udf = udf(predict_sentiment, StringType())\n",
    "    df = df.withColumn('sentiment', one_row_udf(col('text')))\n",
    "    \n",
    "    return df"
   ]
  },
  {
   "cell_type": "code",
   "execution_count": 9,
   "metadata": {},
   "outputs": [],
   "source": [
    "trumpDF = castData(schema, trumpDF)\n",
    "bidenDF = castData(schema, bidenDF)"
   ]
  },
  {
   "cell_type": "markdown",
   "metadata": {},
   "source": [
    "---\n",
    "Kết quả sau khi áp dụng pipeline trên"
   ]
  },
  {
   "cell_type": "code",
   "execution_count": 10,
   "metadata": {},
   "outputs": [],
   "source": [
    "query = trumpDF.writeStream.queryName(\"trump\").format(\"memory\")\\\n",
    "    .start()"
   ]
  },
  {
   "cell_type": "code",
   "execution_count": 24,
   "metadata": {},
   "outputs": [
    {
     "name": "stdout",
     "output_type": "stream",
     "text": [
      "+--------------------+--------------------+-------------+--------------------+--------------+-------------------+-----+--------------------+---------+\n",
      "|                time|                text|retweet_count|            location|favorite_count|            user_id|place|user_followers_count|sentiment|\n",
      "+--------------------+--------------------+-------------+--------------------+--------------+-------------------+-----+--------------------+---------+\n",
      "|Wed Dec 30 09:42:...|GEORGIANS: Loeffl...|          0.0|       United States|           0.0|1241202797296504800| null|                  34|  Neutral|\n",
      "|Wed Dec 30 09:42:...|Trump WINS $2000 ...|          0.0|        Florida, USA|           0.0|          814121478| null|               31281| Positive|\n",
      "|Wed Dec 30 09:42:...|I agree. Still, w...|          0.0|         Boulder, co|           0.0|           14742275| null|                 463| Positive|\n",
      "|Wed Dec 30 09:42:...|Trump Iran Threat...|          0.0|                null|           0.0|1312351416267075600| null|                   2|  Neutral|\n",
      "|Wed Dec 30 09:42:...|BREAKING NEWS:Rep...|          0.0|                null|           0.0|1292936917982548000| null|                  67|  Neutral|\n",
      "|Wed Dec 30 09:42:...|Trump made this c...|          0.0|                null|           0.0|           25475054| null|                2381| Positive|\n",
      "|Wed Dec 30 09:42:...|WaPo : N.Y. prose...|          0.0|       The Internets|           0.0|          450812542| null|                1275| Negative|\n",
      "|Wed Dec 30 09:42:...|Will the man and ...|          0.0|                null|           0.0|1331154132867149800| null|                 241| Negative|\n",
      "|Wed Dec 30 09:42:...|China biggest & f...|          0.0|              London|           0.0|           15704681| null|                7404| Positive|\n",
      "|Wed Dec 30 09:42:...|Trump WINS $2000 ...|          0.0|        Florida, USA|           0.0|          814121478| null|               31281| Positive|\n",
      "|Wed Dec 30 09:42:...|The happenings ar...|          0.0|Trekker of Worlds...|           0.0|1329860268998889500| null|                 172| Positive|\n",
      "|Wed Dec 30 09:42:...|Mr Vindman deserv...|          0.0|                null|           0.0|1264328296134779000| null|                   2|  Neutral|\n",
      "|Wed Dec 30 09:42:...|Watch \"Surprise! ...|          0.0|         Atlanta, GA|           0.0|         4871544759| null|                5806|  Neutral|\n",
      "|Wed Dec 30 09:42:...|The Art of the De...|          0.0|  Surrey BC, Canada.|           0.0|           25543109| null|                  66| Negative|\n",
      "|Wed Dec 30 09:42:...|Trump slams McCon...|          0.0|       Palo Alto, CA|           0.0|         2169030391| null|                 464|  Neutral|\n",
      "|Wed Dec 30 09:42:...|Trump who?Trump i...|          0.0|                null|           0.0|1343997811424112600| null|                   0| Negative|\n",
      "|Wed Dec 30 09:42:...|Once Biden gets i...|          0.0|Clinton Foundatio...|           0.0| 959766340738302000| null|                1641|  Neutral|\n",
      "|Wed Dec 30 09:43:...|Maybe. I think a ...|          0.0|Meridian, Mississ...|           0.0|           28997676| null|               30689|  Neutral|\n",
      "|Wed Dec 30 09:43:...|Congratulations, ...|          0.0|            armchair|           0.0|          378158869| null|                   0| Positive|\n",
      "|Wed Dec 30 09:43:...|Best President ev...|          0.0| North Salt Lake, UT|           0.0|          590197909| null|                 321| Positive|\n",
      "+--------------------+--------------------+-------------+--------------------+--------------+-------------------+-----+--------------------+---------+\n",
      "only showing top 20 rows\n",
      "\n"
     ]
    }
   ],
   "source": [
    "spark.sql('SELECT * FROM trump').show()"
   ]
  },
  {
   "cell_type": "markdown",
   "metadata": {},
   "source": [
    "---\n",
    "## Lưu trữ dữ liệu sau khi xử lí\n",
    "\n",
    "Cuối cùng, thực hiện ghi dữ liệu lên Hadoop với format là file CSV"
   ]
  },
  {
   "cell_type": "code",
   "execution_count": 12,
   "metadata": {},
   "outputs": [
    {
     "data": {
      "text/plain": [
       "<pyspark.sql.streaming.StreamingQuery at 0x7f7dcc6ae7d0>"
      ]
     },
     "execution_count": 12,
     "metadata": {},
     "output_type": "execute_result"
    }
   ],
   "source": [
    "trumpDF.writeStream.trigger(processingTime='5 seconds').queryName(\"trump_tweets\")\\\n",
    ".format(\"csv\").outputMode(\"append\")\\\n",
    ".option(\"checkpointLocation\", \"hdfs://namenode:9000/checkpoints_Trump\")\\\n",
    ".option('path', 'hdfs://namenode:9000/data/trump.csv').start()\n",
    "\n",
    "\n",
    "bidenDF.writeStream.trigger(processingTime='5 seconds').queryName(\"biden_tweets\")\\\n",
    ".format(\"csv\").outputMode(\"append\").option(\"checkpointLocation\", \"hdfs://namenode:9000/checkpoints_Biden\")\\\n",
    ".option('path', 'hdfs://namenode:9000/data/biden.csv').start()"
   ]
  }
 ],
 "metadata": {
  "kernelspec": {
   "display_name": "Python 3 (ipykernel)",
   "language": "python",
   "name": "python3"
  },
  "language_info": {
   "codemirror_mode": {
    "name": "ipython",
    "version": 3
   },
   "file_extension": ".py",
   "mimetype": "text/x-python",
   "name": "python",
   "nbconvert_exporter": "python",
   "pygments_lexer": "ipython3",
   "version": "3.9.7"
  }
 },
 "nbformat": 4,
 "nbformat_minor": 4
}
